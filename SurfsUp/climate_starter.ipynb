{
 "cells": [
  {
   "cell_type": "code",
   "execution_count": 2,
   "metadata": {},
   "outputs": [],
   "source": [
    "%matplotlib inline\n",
    "from matplotlib import style\n",
    "style.use('fivethirtyeight')\n",
    "import matplotlib.pyplot as plt"
   ]
  },
  {
   "cell_type": "code",
   "execution_count": 3,
   "metadata": {},
   "outputs": [],
   "source": [
    "import numpy as np\n",
    "import pandas as pd\n",
    "import datetime as dt\n",
    "import scipy.stats as st"
   ]
  },
  {
   "cell_type": "markdown",
   "metadata": {},
   "source": [
    "# Reflect Tables into SQLAlchemy ORM"
   ]
  },
  {
   "cell_type": "code",
   "execution_count": 45,
   "metadata": {},
   "outputs": [],
   "source": [
    "# Python SQL toolkit and Object Relational Mapper\n",
    "import sqlalchemy\n",
    "from sqlalchemy.ext.automap import automap_base\n",
    "from sqlalchemy.orm import Session\n",
    "from sqlalchemy import create_engine, func, desc"
   ]
  },
  {
   "cell_type": "code",
   "execution_count": 5,
   "metadata": {},
   "outputs": [],
   "source": [
    "# create engine to hawaii.sqlite\n",
    "engine = create_engine(\"sqlite:///Resources/hawaii.sqlite\")"
   ]
  },
  {
   "cell_type": "code",
   "execution_count": 6,
   "metadata": {},
   "outputs": [],
   "source": [
    "# reflect an existing database into a new model\n",
    "Base = automap_base()\n",
    "# reflect the tables\n",
    "Base.prepare(engine=engine, reflect=True)"
   ]
  },
  {
   "cell_type": "code",
   "execution_count": 7,
   "metadata": {},
   "outputs": [
    {
     "data": {
      "text/plain": [
       "['measurement', 'station']"
      ]
     },
     "execution_count": 7,
     "metadata": {},
     "output_type": "execute_result"
    }
   ],
   "source": [
    "# View all of the classes that automap found\n",
    "Base.classes.keys()"
   ]
  },
  {
   "cell_type": "code",
   "execution_count": 8,
   "metadata": {},
   "outputs": [],
   "source": [
    "# Save references to each table\n",
    "Measurement = Base.classes.measurement\n",
    "Station = Base.classes.station"
   ]
  },
  {
   "cell_type": "code",
   "execution_count": 9,
   "metadata": {},
   "outputs": [],
   "source": [
    "# Create our session (link) from Python to the DB\n",
    "session = Session(engine)"
   ]
  },
  {
   "cell_type": "markdown",
   "metadata": {},
   "source": [
    "# Exploratory Precipitation Analysis"
   ]
  },
  {
   "cell_type": "code",
   "execution_count": 10,
   "metadata": {},
   "outputs": [
    {
     "data": {
      "text/plain": [
       "('2017-08-23')"
      ]
     },
     "execution_count": 10,
     "metadata": {},
     "output_type": "execute_result"
    }
   ],
   "source": [
    "# Find the most recent date in the data set\n",
    "most_recent_date = session.query(Measurement.date).order_by(Measurement.date.desc()).first()\n",
    "most_recent_date"
   ]
  },
  {
   "cell_type": "code",
   "execution_count": 11,
   "metadata": {},
   "outputs": [
    {
     "data": {
      "text/plain": [
       "Text(0, 0.5, 'Inches')"
      ]
     },
     "execution_count": 11,
     "metadata": {},
     "output_type": "execute_result"
    },
    {
     "data": {
      "image/png": "[encoded data removed]",
      "text/plain": [
       "<Figure size 432x288 with 1 Axes>"
      ]
     },
     "metadata": {},
     "output_type": "display_data"
    }
   ],
   "source": [
    "# Design a query to retrieve the last 12 months of precipitation data and plot the results. \n",
    "# Calculate the date one year from the last date in data set.\n",
    "first_day_latest_year = dt.date(2017, 8, 23) - dt.timedelta(days=365)\n",
    "\n",
    "# Perform a query to retrieve the data and precipitation scores\n",
    "precip_latest_year = session.query(Measurement.date, Measurement.prcp).\\\n",
    "    filter(Measurement.date >= dt.date(2016,8,23)).all()\n",
    "\n",
    "\n",
    "# Save the query results as a Pandas DataFrame and set the index to the date column\n",
    "precip_df = pd.DataFrame(precip_latest_year)\n",
    "precip_df = precip_df.rename(columns={\"prcp\":\"precipitation\"})\n",
    "\n",
    "# Sort the dataframe by date\n",
    "precip_sorted = precip_df.sort_values(\"date\")\n",
    "precip_sorted\n",
    "\n",
    "# Use Pandas Plotting with Matplotlib to plot the data\n",
    "precip_sorted.plot(x=\"date\", y=\"precipitation\", rot=90)\n",
    "plt.ylabel(\"Inches\")"
   ]
  },
  {
   "cell_type": "code",
   "execution_count": 25,
   "metadata": {},
   "outputs": [
    {
     "name": "stdout",
     "output_type": "stream",
     "text": [
      "The mean rain in Honolulu from 2016-08-23 to 2017-08-23 was 0.18 inches.\n",
      "The median rain in Holulu from 2016-08-23 to 2017-08-23 was 0.02 inches.\n",
      "The most frequently occured amount of rain in Holulu from 2016-08-23 to 2017-08-23 was ModeResult(mode=array([0.]), count=array([874])) inches.\n",
      "NormaltestResult(statistic=2320.213668489221, pvalue=0.0)\n",
      "The rain data from 2016-08-23 to 2017-08-23 follows a normal distribution.\n",
      "The population variance is 0.21259051566664816.\n",
      "The population standard deviation is 0.46107539043701756.\n",
      "About 68% of the data is between 0 and 0.641 inches.\n",
      "About 95% of the data is between 0 and 1.102 inches.\n",
      "About 99.7% of the data is between 0 and 1.563 inches.\n"
     ]
    }
   ],
   "source": [
    "# Use Pandas to calculate the summary statistics for the precipitation data\n",
    "mean_rain = round(np.mean(precip_sorted[\"precipitation\"]), 2)\n",
    "print(\"The mean rain in Hawaii from 2016-08-23 to 2017-08-23 was %.2f inches.\" % mean_rain)\n",
    "\n",
    "median_rain = np.nanmedian(precip_sorted[\"precipitation\"])\n",
    "print(\"The median rain in Hawaii from 2016-08-23 to 2017-08-23 was %.2f inches.\" % median_rain)\n",
    "\n",
    "mode_rain = st.mode(precip_sorted[\"precipitation\"])\n",
    "print(f\"The most frequently occured amount of rain in Hawaii from 2016-08-23 to 2017-08-23 was {mode_rain} inches.\")\n",
    "\n",
    "print(st.normaltest(precip_sorted.dropna()[\"precipitation\"]))\n",
    "print(\"The rain data from 2016-08-23 to 2017-08-23 follows a normal distribution.\")\n",
    "\n",
    "var_numpy = np.var(precip_sorted[\"precipitation\"])\n",
    "print(f\"The population variance is {var_numpy}.\")\n",
    "\n",
    "sd_numpy = np.std(precip_sorted[\"precipitation\"])\n",
    "print(f\"The population standard deviation is {sd_numpy}.\")\n",
    "\n",
    "print(f\"About 68% of the data is between 0 and {round(mean_rain+sd_numpy,3)} inches.\")\n",
    "print(f\"About 95% of the data is between 0 and {round(mean_rain+2*sd_numpy,3)} inches.\")\n",
    "print(f\"About 99.7% of the data is between 0 and {round(mean_rain+3*sd_numpy,3)} inches.\")"
   ]
  },
  {
   "cell_type": "markdown",
   "metadata": {},
   "source": [
    "## Exploratory Station Analysis"
   ]
  },
  {
   "cell_type": "code",
   "execution_count": 26,
   "metadata": {},
   "outputs": [
    {
     "name": "stdout",
     "output_type": "stream",
     "text": [
      "There are 9 stations.\n"
     ]
    }
   ],
   "source": [
    "# Design a query to calculate the total number stations in the dataset\n",
    "station_num = session.query(Station).count()\n",
    "print(f\"There are {station_num} stations.\")"
   ]
  },
  {
   "cell_type": "code",
   "execution_count": 46,
   "metadata": {},
   "outputs": [
    {
     "data": {
      "text/plain": [
       "[('USC00519281', 2772),\n",
       " ('USC00519397', 2724),\n",
       " ('USC00513117', 2709),\n",
       " ('USC00519523', 2669),\n",
       " ('USC00516128', 2612),\n",
       " ('USC00514830', 2202),\n",
       " ('USC00511918', 1979),\n",
       " ('USC00517948', 1372),\n",
       " ('USC00518838', 511)]"
      ]
     },
     "execution_count": 46,
     "metadata": {},
     "output_type": "execute_result"
    }
   ],
   "source": [
    "# Design a query to find the most active stations (i.e. what stations have the most rows?)\n",
    "# List the stations and the counts in descending order.\n",
    "session.query(Measurement.station, func.count(Measurement.station)).\\\n",
    "    group_by(Measurement.station).\\\n",
    "    order_by(desc(func.count(Measurement.station))).all()\n"
   ]
  },
  {
   "cell_type": "code",
   "execution_count": 94,
   "metadata": {},
   "outputs": [
    {
     "name": "stdout",
     "output_type": "stream",
     "text": [
      "The lowest temperature measured at the station with the most overall measurements was 54°F.\n",
      "The highest temperature measured at the station with the most overall measurements was 85°F.\n",
      "The average temperature measured at the station with the most overall measurements was 71.66°F.\n"
     ]
    }
   ],
   "source": [
    "# Using the most active station id from the previous query, calculate the lowest, highest, and average temperature.\n",
    "most_active = session.query(Measurement.station).\\\n",
    "    group_by(Measurement.station).\\\n",
    "    order_by(desc(func.count(Measurement.station))).first()[0]\n",
    "\n",
    "min_rain = session.query(func.min(Measurement.tobs)).\\\n",
    "    filter(Measurement.station == most_active).all()[0]\n",
    "min_rain\n",
    "print(\"The lowest temperature measured at the station with the most overall measurements was %d°F.\" % min_rain)\n",
    "\n",
    "max_rain = session.query(func.max(Measurement.tobs)).\\\n",
    "    filter(Measurement.station == most_active).all()[0]\n",
    "print(\"The highest temperature measured at the station with the most overall measurements was %d°F.\" % max_rain)\n",
    "\n",
    "avg_rain = session.query(func.avg(Measurement.tobs)).\\\n",
    "    filter(Measurement.station == most_active).all()[0]\n",
    "avg_rain\n",
    "print(\"The average temperature measured at the station with the most overall measurements was %.2f°F.\" % avg_rain)"
   ]
  },
  {
   "cell_type": "code",
   "execution_count": 110,
   "metadata": {},
   "outputs": [
    {
     "data": {
      "text/plain": [
       "Text(0.5, 1.0, 'Temperature Histogram')"
      ]
     },
     "execution_count": 110,
     "metadata": {},
     "output_type": "execute_result"
    },
    {
     "data": {
      "image/png": "[encoded data removed]",
      "text/plain": [
       "<Figure size 432x288 with 1 Axes>"
      ]
     },
     "metadata": {},
     "output_type": "display_data"
    }
   ],
   "source": [
    "# Using the most active station id\n",
    "# Query the last 12 months of temperature observation data for this station and plot the results as a histogram\n",
    "most_active_latest_year = session.query(Measurement.tobs).\\\n",
    "    filter(Measurement.station == most_active).\\\n",
    "    filter(Measurement.date >= dt.date(2016,8,23)).all()\n",
    "\n",
    "latest_temps_df = pd.DataFrame(most_active_latest_year)\n",
    "latest_temps_df\n",
    "\n",
    "latest_temps_df.hist(bins=12)\n",
    "plt.xlabel(\"Temperature (°F)\")\n",
    "plt.ylabel(\"Temperature Frequency\")\n",
    "plt.title(\"Temperature Histogram\")"
   ]
  },
  {
   "cell_type": "markdown",
   "metadata": {},
   "source": [
    "# Close session"
   ]
  },
  {
   "cell_type": "code",
   "execution_count": 112,
   "metadata": {},
   "outputs": [],
   "source": [
    "# Close Session\n",
    "session.close()"
   ]
  },
  {
   "cell_type": "code",
   "execution_count": null,
   "metadata": {},
   "outputs": [],
   "source": []
  }
 ],
 "metadata": {
  "anaconda-cloud": {},
  "kernel_info": {
   "name": "python3"
  },
  "kernelspec": {
   "display_name": "PythonData",
   "language": "python",
   "name": "pythondata"
  },
  "language_info": {
   "codemirror_mode": {
    "name": "ipython",
    "version": 3
   },
   "file_extension": ".py",
   "mimetype": "text/x-python",
   "name": "python",
   "nbconvert_exporter": "python",
   "pygments_lexer": "ipython3",
   "version": "3.7.7"
  },
  "nteract": {
   "version": "0.12.3"
  },
  "varInspector": {
   "cols": {
    "lenName": 16,
    "lenType": 16,
    "lenVar": 40
   },
   "kernels_config": {
    "python": {
     "delete_cmd_postfix": "",
     "delete_cmd_prefix": "del ",
     "library": "var_list.py",
     "varRefreshCmd": "print(var_dic_list())"
    },
    "r": {
     "delete_cmd_postfix": ") ",
     "delete_cmd_prefix": "rm(",
     "library": "var_list.r",
     "varRefreshCmd": "cat(var_dic_list()) "
    }
   },
   "types_to_exclude": [
    "module",
    "function",
    "builtin_function_or_method",
    "instance",
    "_Feature"
   ],
   "window_display": false
  }
 },
 "nbformat": 4,
 "nbformat_minor": 2
}
